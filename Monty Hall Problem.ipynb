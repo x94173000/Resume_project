{
  "nbformat": 4,
  "nbformat_minor": 0,
  "metadata": {
    "colab": {
      "provenance": [],
      "authorship_tag": "ABX9TyPwwmZDcezj6VoRe/gwiLms",
      "include_colab_link": true
    },
    "kernelspec": {
      "name": "python3",
      "display_name": "Python 3"
    },
    "language_info": {
      "name": "python"
    }
  },
  "cells": [
    {
      "cell_type": "markdown",
      "metadata": {
        "id": "view-in-github",
        "colab_type": "text"
      },
      "source": [
        "<a href=\"https://colab.research.google.com/github/x94173000/Resume_project/blob/main/Monty%20Hall%20Problem.ipynb\" target=\"_parent\"><img src=\"https://colab.research.google.com/assets/colab-badge.svg\" alt=\"Open In Colab\"/></a>"
      ]
    },
    {
      "cell_type": "markdown",
      "source": [
        "**現在有一個這樣遊戲，在你面前有三個門，其中只有一個門有一份禮物，其他兩個門是空的，現在主持人讓你選擇一個門，然後他會從剩下的兩個門中，打開一個空門，再來問你，你是否要改變你原來選擇的那個門，還是堅持選擇，如果你選的門後面有禮物，打開後禮物就是你的。**\n",
        "\n",
        "參考網站\n",
        "https://www.twblogs.net/a/5ef225fcf49a33175cd80328"
      ],
      "metadata": {
        "id": "wDCnvLm8AcZP"
      }
    },
    {
      "cell_type": "code",
      "execution_count": null,
      "metadata": {
        "id": "2VDWY_cFAYoQ"
      },
      "outputs": [],
      "source": [
        "import numpy as np\n",
        "#定義函數，隨機生成n次\n",
        "def gen_random(num):\n",
        "    #獎品在A,B,C門中隨機出現\n",
        "    p = np.random.randint(1,4,size = num) #隨機數在[1,4)範圍內，大小不限定\n",
        "    return p"
      ]
    },
    {
      "cell_type": "code",
      "source": [
        "#(1)維持選擇\n",
        "#定義維持選擇的函數\n",
        "def guess1(num):\n",
        "  p = gen_random(num) #生成正確的答案\n",
        "  guess = np.random.randint(1,4,size = len(p)) #猜的次數與生成的輪數一致，這裡默認玩100次(生成100次正確答案，對應猜100次)\n",
        "  judge = (p == guess) #計算有多少個正確的(猜與生成相等即為正確)，最後返回True和False序列\n",
        "  correct_rate = judge.sum()/len(judge) #因為True默認是1，False默認是0(*布林值可直接計算)，透過求和來算正確率\n",
        "  print('我們玩%d次' % num) # Python3.6之前使用的字串格式化方法\n",
        "  print('在第二次不改變選擇的策略下，你最終的中獎率是:%.2f%%' % (correct_rate*100)) #「%.2f」表示保留兩位小數；「%%」表示在字符串中插入一個百分號%\n",
        "guess1(1000000) #機率近似1/3"
      ],
      "metadata": {
        "id": "dylI5OZEbmIx",
        "colab": {
          "base_uri": "https://localhost:8080/"
        },
        "outputId": "c3ce4d39-6d5c-4518-c48e-cb0b96307466"
      },
      "execution_count": null,
      "outputs": [
        {
          "output_type": "stream",
          "name": "stdout",
          "text": [
            "我們玩1000000次\n",
            "在第二次不改變選擇的策略下，你最終的中獎率是:33.36%\n"
          ]
        }
      ]
    },
    {
      "cell_type": "code",
      "source": [
        "#(2)更改最初的選擇\n",
        "def guess2(num):\n",
        "  p = gen_random(num) #生成正確的答案\n",
        "  guess = np.random.randint(1,4,size = len(p)) #一開始仍先猜100次\n",
        "  guess_change = [] #因為之後會改答案，先建個列表儲存之後的選擇\n",
        "\n",
        "  for answer,g in zip(p,guess): #answer是答案，g是第一次猜的答案 #zip\n",
        "    #注意無論是否選到正確的門，在第一次有獎的門和我們初次選的門均不會被打開(有可能是同一個)\n",
        "    if answer != g:\n",
        "      guess_change.append(answer) #如果正確答案和我們第一次猜的不一致，主持人排除掉一個門之後我們那改變選擇，最後剩下的必是正確答案——i\n",
        "    else:\n",
        "      #當我們初次猜的門與獎品門一致，主持人隨機打開一扇門之後，我們會選擇剩下一扇未被打開的門(錯誤的)，也就是到此時我們一定選錯\n",
        "      answer_range = [1,2,3] #創建一個包含三扇門的列表\n",
        "      answer_range.remove(answer) #先排除正確的門\n",
        "      answer_range.remove(answer_range[np.random.randint(0,2)]) #剩下兩個門中主持人會再挑一個\n",
        "      guess_change.append(answer_range[0]) #最後一個我選擇的門\n",
        "  guess_change = np.array(guess_change) #轉換為NumPy數組的目的是因為其計算較便捷\n",
        "  judge = (p == guess_change)\n",
        "  correct_rate = judge.sum()/len(judge)\n",
        "  print('我們玩%d次' % num)\n",
        "  print('在第二次改變選擇的策略下，你最終的中獎率是:%.2f%%' % (correct_rate*100))\n",
        "guess2(1000000) #機率近似2/3\n"
      ],
      "metadata": {
        "id": "nnkxCHl7byWz",
        "colab": {
          "base_uri": "https://localhost:8080/"
        },
        "outputId": "b5cd495e-e835-4b12-cd30-cfd564b9e042"
      },
      "execution_count": null,
      "outputs": [
        {
          "output_type": "stream",
          "name": "stdout",
          "text": [
            "我們玩1000000次\n",
            "在第二次改變選擇的策略下，你最終的中獎率是:66.59%\n"
          ]
        }
      ]
    },
    {
      "cell_type": "markdown",
      "source": [
        "**驗證改變門的猜法中獎機率確實恆大於不改變的機率**"
      ],
      "metadata": {
        "id": "pj4-HQAGtTjt"
      }
    },
    {
      "cell_type": "code",
      "source": [
        "import numpy as np\n",
        "\n",
        "# 定義生成隨機獎品位置的函數\n",
        "def gen_random(num):\n",
        "    return np.random.randint(1, 4, size=num)\n",
        "\n",
        "#(1)維持選擇\n",
        "def guess_one(num):\n",
        "    p = gen_random(num)\n",
        "    guess = np.random.randint(1, 4, size=len(p))\n",
        "    judge = (p == guess)\n",
        "    correct_rate = judge.sum()/len(judge)\n",
        "    return correct_rate\n",
        "\n",
        "#(2)更改最初的選擇\n",
        "def guess_two(num):\n",
        "    p = gen_random(num)\n",
        "    guess = np.random.randint(1, 4, size=len(p))\n",
        "    guess_change = []\n",
        "\n",
        "    for anwser, g in zip(p, guess):\n",
        "        if anwser != g:\n",
        "            guess_change.append(anwser)\n",
        "        else:\n",
        "            anwser_range = [1, 2, 3]\n",
        "            anwser_range.remove(anwser)\n",
        "            anwser_range.remove(anwser_range[np.random.randint(0, 2)])\n",
        "            guess_change.append(anwser_range[0])\n",
        "\n",
        "    guess_change = np.array(guess_change)\n",
        "    judge = (p == guess_change)\n",
        "    correct_rate = judge.sum() / len(judge)\n",
        "    return correct_rate\n",
        "\n",
        "# 驗證guess_two確實恆大於guess_one\n",
        "def validate_guesses(iterations, num):\n",
        "    guess_one_results = []\n",
        "    guess_two_results = []\n",
        "\n",
        "    for _ in range(iterations):\n",
        "        guess_one_results.append(guess_one(num))\n",
        "        guess_two_results.append(guess_two(num))\n",
        "\n",
        "    avg_guess_one = np.mean(guess_one_results)\n",
        "    avg_guess_two = np.mean(guess_two_results)\n",
        "\n",
        "    print('猜法一（堅持最初選擇）的平均中獎率: {:.2f}%'.format(avg_guess_one * 100))\n",
        "    print('猜法二（改變選擇）的平均中獎率: {:.2f}%'.format(avg_guess_two * 100))\n",
        "\n",
        "    if avg_guess_two > avg_guess_one:\n",
        "        print('結果驗證：猜法二確實比猜法一更有可能中獎。')\n",
        "    else:\n",
        "        print('結果驗證：猜法二並沒有比猜法一更有可能中獎，這可能是因為樣本數量不足或其他問題。')\n",
        "\n",
        "# 參數設置\n",
        "iterations = 1000  # 驗證的迭代次數\n",
        "num = 100  # 每次迭代的遊戲次數\n",
        "\n",
        "# 執行驗證\n",
        "validate_guesses(iterations, num)"
      ],
      "metadata": {
        "colab": {
          "base_uri": "https://localhost:8080/"
        },
        "id": "XQBiFpm369U_",
        "outputId": "18a490ce-807f-4955-bd23-0382980373fe"
      },
      "execution_count": null,
      "outputs": [
        {
          "output_type": "stream",
          "name": "stdout",
          "text": [
            "猜法一（堅持最初選擇）的平均中獎率: 33.34%\n",
            "猜法二（改變選擇）的平均中獎率: 66.68%\n",
            "結果驗證：猜法二確實比猜法一更有可能中獎。\n"
          ]
        }
      ]
    }
  ]
}